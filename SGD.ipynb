{
 "cells": [
  {
   "cell_type": "code",
   "execution_count": 8,
   "metadata": {
    "colab": {},
    "colab_type": "code",
    "id": "REYPoTJ1Af7u"
   },
   "outputs": [],
   "source": [
    "import warnings\n",
    "warnings.filterwarnings(\"ignore\")\n",
    "from sklearn.datasets import load_boston\n",
    "from random import seed\n",
    "from random import randrange\n",
    "from csv import reader\n",
    "from math import sqrt\n",
    "from sklearn import preprocessing\n",
    "import pandas as pd\n",
    "import numpy as np\n",
    "import matplotlib.pyplot as plt\n",
    "from prettytable import PrettyTable\n",
    "from sklearn.linear_model import SGDRegressor\n",
    "from sklearn import preprocessing\n",
    "from sklearn.metrics import mean_squared_error\n",
    "import math"
   ]
  },
  {
   "cell_type": "code",
   "execution_count": 2,
   "metadata": {
    "colab": {},
    "colab_type": "code",
    "id": "NTQ2iH-kAwbo"
   },
   "outputs": [],
   "source": [
    "X = load_boston().data\n",
    "Y = load_boston().target"
   ]
  },
  {
   "cell_type": "code",
   "execution_count": 3,
   "metadata": {
    "colab": {},
    "colab_type": "code",
    "id": "FgUW39s6Be0U"
   },
   "outputs": [],
   "source": [
    "scaler = preprocessing.StandardScaler().fit(X)\n",
    "X = scaler.transform(X)"
   ]
  },
  {
   "cell_type": "code",
   "execution_count": 317,
   "metadata": {},
   "outputs": [],
   "source": [
    "from sklearn.model_selection import train_test_split\n",
    "X_train,X_test,y_train,y_test = train_test_split(X,Y,test_size = .2,random_state = 42)"
   ]
  },
  {
   "cell_type": "code",
   "execution_count": 318,
   "metadata": {},
   "outputs": [
    {
     "data": {
      "text/plain": [
       "((404, 13), (102, 13))"
      ]
     },
     "execution_count": 318,
     "metadata": {},
     "output_type": "execute_result"
    }
   ],
   "source": [
    "X_train.shape,X_test.shape"
   ]
  },
  {
   "cell_type": "code",
   "execution_count": 340,
   "metadata": {
    "colab": {
     "base_uri": "https://localhost:8080/",
     "height": 34
    },
    "colab_type": "code",
    "executionInfo": {
     "elapsed": 879,
     "status": "ok",
     "timestamp": 1545718892607,
     "user": {
      "displayName": "Applied AI Course",
      "photoUrl": "https://lh5.googleusercontent.com/-9_3A9F-kDXs/AAAAAAAAAAI/AAAAAAAAACw/IprjYvUuoXQ/s64/photo.jpg",
      "userId": "00484516897554883881"
     },
     "user_tz": -330
    },
    "id": "HNu1sXtEBBS2",
    "outputId": "a0c5d3d0-345c-4a34-8ccf-0d9f3d7d23fd"
   },
   "outputs": [
    {
     "name": "stdout",
     "output_type": "stream",
     "text": [
      "27.16785086893904\n"
     ]
    }
   ],
   "source": [
    "clf = SGDRegressor()\n",
    "clf.fit(X_train, y_train)\n",
    "y_predicted1 = clf.predict(X_test)\n",
    "print(mean_squared_error(y_test, y_predicted1))"
   ]
  },
  {
   "cell_type": "code",
   "execution_count": 221,
   "metadata": {},
   "outputs": [],
   "source": [
    "train=[]\n",
    "i = 0\n",
    "for row in X_train:\n",
    "    t = []\n",
    "    for val in row:\n",
    "        t.append(val)\n",
    "    t.append(y_train[i])\n",
    "    train.append(t)\n",
    "    i = i+1 \n",
    "test = []\n",
    "i = 0\n",
    "for row in X_test:\n",
    "    t = []\n",
    "    for val in row:\n",
    "        t.append(val)\n",
    "    t.append(y_test[i])\n",
    "    test.append(t)\n",
    "    i = i + 1"
   ]
  },
  {
   "cell_type": "code",
   "execution_count": 1,
   "metadata": {},
   "outputs": [
    {
     "ename": "SyntaxError",
     "evalue": "invalid syntax (<ipython-input-1-97858ae34767>, line 1)",
     "output_type": "error",
     "traceback": [
      "\u001b[1;36m  File \u001b[1;32m\"<ipython-input-1-97858ae34767>\"\u001b[1;36m, line \u001b[1;32m1\u001b[0m\n\u001b[1;33m    <iframe src=\"https://www.codiva.io/em/p/49a59bbc-e133-4a8d-a0dc-55d20ef729d2\" style=\"height: 600px; min-height: 420px; max-height: 90vh; width: 100%; overflow: hidden;\"></iframe>\u001b[0m\n\u001b[1;37m    ^\u001b[0m\n\u001b[1;31mSyntaxError\u001b[0m\u001b[1;31m:\u001b[0m invalid syntax\n"
     ]
    }
   ],
   "source": [
    "<iframe src=\"https://www.codiva.io/em/p/49a59bbc-e133-4a8d-a0dc-55d20ef729d2\" style=\"height: 600px; min-height: 420px; max-height: 90vh; width: 100%; overflow: hidden;\"></iframe>"
   ]
  },
  {
   "cell_type": "markdown",
   "metadata": {},
   "source": [
    "### SGD implementation"
   ]
  },
  {
   "cell_type": "code",
   "execution_count": 230,
   "metadata": {},
   "outputs": [],
   "source": [
    "def update_coef(learning_rate,error,w,data):\n",
    "            ip = 1\n",
    "            for i in range(len(data)-1):\n",
    "                if ip==1:                            ## for first iteration to update the interept term\n",
    "                    w[0] = w[0]-learning_rate*error\n",
    "                    ip=ip+1\n",
    "                vx = learning_rate * error * data[i]\n",
    "                w[i + 1] = w[i + 1] - vx  # updating rest of the coefficients\n",
    "            return w"
   ]
  },
  {
   "cell_type": "code",
   "execution_count": 231,
   "metadata": {},
   "outputs": [],
   "source": [
    "# Make a prediction with coefficients\n",
    "def predict(row, coefficients):\n",
    "    yhat = coefficients[0]\n",
    "    for i in range(len(row)-1):\n",
    "        yhat += coefficients[i + 1] * row[i] # multiplying coef with the input for making prediction\n",
    "    return yhat"
   ]
  },
  {
   "cell_type": "code",
   "execution_count": 3,
   "metadata": {},
   "outputs": [
    {
     "data": {
      "text/latex": [
       "$Y_{Prediction} = x_{1}*w_{1}+ x_{2}*w_{2}+......$\n"
      ],
      "text/plain": [
       "<IPython.core.display.Latex object>"
      ]
     },
     "metadata": {},
     "output_type": "display_data"
    }
   ],
   "source": [
    "%%latex\n",
    "$Y_{Prediction} = x_{1}*w_{1}+ x_{2}*w_{2}+......$"
   ]
  },
  {
   "cell_type": "code",
   "execution_count": 405,
   "metadata": {},
   "outputs": [],
   "source": [
    "def coef_sgd_m(train,epoch,learning_rate,r):\n",
    "    w= []                        \n",
    "    #initializing the w with some random uniform value in the range(0,r)\n",
    "    for i in range(0,len(train[0])):\n",
    "        val = np.random.uniform(0,r)\n",
    "        w.append(val)\n",
    "    # loop for number of epochs in the model    \n",
    "    for iteration in range(epoch):    \n",
    "        sum_of_error = 0\n",
    "        # loop for each data point in the dataset\n",
    "        for data in train:   \n",
    "            ip = 1\n",
    "            for i in range(len(data)-1):\n",
    "                # for intercept term\n",
    "                if ip==1:                  \n",
    "                    y_predicted = w[0]\n",
    "                    ip = ip+1\n",
    "                #for rest of the coefficient\n",
    "                y_predicted = y_predicted + w[i + 1] * data[i]\n",
    "            #last value in data is actual y\n",
    "            error = y_predicted - data[-1] \n",
    "            #calculating sum of squared error\n",
    "            sum_of_error =sum_of_error + error**2\n",
    "            # updating the coefficient on the basis of one data point\n",
    "            w = update_coef(learning_rate,error,w,data)          \n",
    "    return  w"
   ]
  },
  {
   "cell_type": "code",
   "execution_count": 412,
   "metadata": {},
   "outputs": [],
   "source": [
    "## to find out the error test as well as training error\n",
    "def coef_sgd(train,epoch,learning_rate,r,test):\n",
    "    w, err,err_t= [],[],[]                        #initializing the weights in range (0,20)\n",
    "    for i in range(0,len(train[0])):\n",
    "        val = np.random.uniform(0,r)    ## initialization parameter\n",
    "        w.append(val)\n",
    "        \n",
    "\n",
    "    for iteration in range(epoch):   # loop for number of epochs in the model \n",
    "        sum_of_error,err_test = 0,0\n",
    "        for dx in test:               ## storing the test error at each itration\n",
    "            y_ = predict(dx,w)\n",
    "            err_test= err_test + (y_- dx[-1])**2\n",
    "        err_t.append(err_test)\n",
    "        for data in train:   # loop for each point in the dataset\n",
    "            ip = 1\n",
    "            for i in range(len(data)-1):\n",
    "                if ip==1:                   # for intercept term\n",
    "                    y_predicted = w[0]\n",
    "                    ip = ip+1\n",
    "                y_predicted = y_predicted + w[i + 1] * data[i]\n",
    "            error = y_predicted - data[-1]\n",
    "            sum_of_error =sum_of_error + error**2\n",
    "            w = update_coef(learning_rate,error,w,data)  # updating the coefficient for one row in the datas\n",
    "        err.append(sum_of_error)\n",
    "    return [w,err,err_t]"
   ]
  },
  {
   "cell_type": "code",
   "execution_count": 409,
   "metadata": {},
   "outputs": [],
   "source": [
    "train = np.array(train)\n",
    "test = np.array(test)"
   ]
  },
  {
   "cell_type": "markdown",
   "metadata": {},
   "source": [
    "## Cross validation for optimal parameter"
   ]
  },
  {
   "cell_type": "code",
   "execution_count": 410,
   "metadata": {},
   "outputs": [
    {
     "name": "stdout",
     "output_type": "stream",
     "text": [
      "Opt Mean Squared error: 23.92638063595962\n",
      "Opt_epoch : 1000\n",
      "Opt Learning rate:  0.0025\n",
      "Opt initiallize range : 7\n"
     ]
    }
   ],
   "source": [
    "opt_val = 999999999999999999999999\n",
    "opt_lr = 0\n",
    "opt_epoch = 0\n",
    "opt_r = 0\n",
    "for lr in [.0021,.0024,.0025,.0026,.00270]:\n",
    "    for epoch in [100,200,400,500,700,1000,1200]:\n",
    "        for r in [2,3,4,5,6,7,8,9,10]:\n",
    "            pre = []\n",
    "            w = coef_sgd_m(train,epoch,lr,r)\n",
    "            for i in test:\n",
    "                pre.append(predict(i,w))\n",
    "            mean_squared_error(y_test,pre)\n",
    "            if opt_val > mean_squared_error(y_test,pre):\n",
    "                opt_epoch = epoch\n",
    "                opt_val = mean_squared_error(y_test,pre)\n",
    "                opt_r = r\n",
    "                opt_lr = lr\n",
    "print(\"Opt Mean Squared error:\",opt_val)\n",
    "print(\"Opt_epoch :\",opt_epoch)\n",
    "print(\"Opt Learning rate: \",opt_lr)\n",
    "print(\"Opt initiallize range :\",opt_r)"
   ]
  },
  {
   "cell_type": "code",
   "execution_count": null,
   "metadata": {},
   "outputs": [],
   "source": [
    "## After trying a lot i am not able to get mse less then 23.92"
   ]
  },
  {
   "cell_type": "markdown",
   "metadata": {},
   "source": [
    "## training error and testing error for each epoch and final testing on optimal parameters"
   ]
  },
  {
   "cell_type": "code",
   "execution_count": 413,
   "metadata": {},
   "outputs": [
    {
     "name": "stdout",
     "output_type": "stream",
     "text": [
      "Mean squared error of the model on the test data: 23.929243898464403\n",
      "Root Mean squared error of the model on the test data: 4.891752640768378\n"
     ]
    }
   ],
   "source": [
    "y_predicted = []\n",
    "x = coef_sgd(train,1000,lr,7,test)\n",
    "w,errr,err_test = x[0],x[1],x[2]\n",
    "w1,errr1 = z[0],z[1]\n",
    "for i in test:\n",
    "    y_predicted.append(predict(i,w))\n",
    "print(\"Mean squared error of the model on the test data:\",mean_squared_error(y_test,y_predicted))\n",
    "print(\"Root Mean squared error of the model on the test data:\",math.sqrt(mean_squared_error(y_test,y_predicted)))"
   ]
  },
  {
   "cell_type": "code",
   "execution_count": 399,
   "metadata": {},
   "outputs": [
    {
     "data": {
      "text/plain": [
       "<matplotlib.legend.Legend at 0x23809ef99b0>"
      ]
     },
     "execution_count": 399,
     "metadata": {},
     "output_type": "execute_result"
    },
    {
     "data": {
      "image/png": "[encoded data removed]",
      "text/plain": [
       "<Figure size 432x288 with 1 Axes>"
      ]
     },
     "metadata": {
      "needs_background": "light"
     },
     "output_type": "display_data"
    }
   ],
   "source": [
    "plt.plot(np.array(errr)/404)   # training data is contating 404 points so doing average of sum of error at each epoch\n",
    "plt.plot(np.array(err_test)/102)\n",
    "plt.title(\"Each epoch error for train and test\")\n",
    "plt.xlabel(\"No of Epoch\")\n",
    "plt.ylabel(\"Error\")\n",
    "plt.legend([\"Training Error\",\"Testing Error\"])"
   ]
  },
  {
   "cell_type": "code",
   "execution_count": 400,
   "metadata": {},
   "outputs": [
    {
     "data": {
      "text/plain": [
       "<matplotlib.legend.Legend at 0x2380b024828>"
      ]
     },
     "execution_count": 400,
     "metadata": {},
     "output_type": "execute_result"
    },
    {
     "data": {
      "image/png": "[encoded data removed]",
      "text/plain": [
       "<Figure size 432x288 with 1 Axes>"
      ]
     },
     "metadata": {
      "needs_background": "light"
     },
     "output_type": "display_data"
    }
   ],
   "source": [
    "plt.plot(np.array(errr))   #without average\n",
    "plt.plot(np.array(err_test))\n",
    "plt.title(\"Each epoch error for train and test\")\n",
    "plt.xlabel(\"No of Epoch\")\n",
    "plt.ylabel(\"Error\")\n",
    "plt.legend([\"Training Error\",\"Testing Error\"])"
   ]
  },
  {
   "cell_type": "code",
   "execution_count": 362,
   "metadata": {},
   "outputs": [
    {
     "name": "stdout",
     "output_type": "stream",
     "text": [
      "Mean Squared Error using sklearn implementation : 24.32439290494464\n",
      "Root Mean squared error of the model on the test data: 4.931976571816278\n"
     ]
    }
   ],
   "source": [
    "clf = SGDRegressor( penalty='l2', alpha=0.0025,max_iter=1000)\n",
    "clf.fit(X_train, y_train)\n",
    "y_predicted1 = clf.predict(X_test)\n",
    "print(\"Mean Squared Error using sklearn implementation :\",mean_squared_error(y_test, y_predicted1))\n",
    "print(\"Root Mean squared error of the model on the test data:\",math.sqrt(mean_squared_error(y_test,y_predicted1)))"
   ]
  },
  {
   "cell_type": "code",
   "execution_count": 363,
   "metadata": {},
   "outputs": [
    {
     "data": {
      "image/png": "[encoded data removed]",
      "text/plain": [
       "<Figure size 432x288 with 1 Axes>"
      ]
     },
     "metadata": {
      "needs_background": "light"
     },
     "output_type": "display_data"
    }
   ],
   "source": [
    "import matplotlib.pyplot as plt\n",
    "plt.scatter(y_test,y_predicted)\n",
    "plt.scatter(y_test,y_predicted1)\n",
    "plt.title(\"Library vs Own implementation scatter plot\")\n",
    "plt.xlabel(\"y_test\")\n",
    "plt.ylabel(\"y_predicted\")\n",
    "plt.legend([\"Own Implementation\",\"sklearn implementation\"])\n",
    "plt.show()"
   ]
  },
  {
   "cell_type": "code",
   "execution_count": 364,
   "metadata": {},
   "outputs": [
    {
     "data": {
      "image/png": "[encoded data removed]",
      "text/plain": [
       "<Figure size 432x288 with 1 Axes>"
      ]
     },
     "metadata": {
      "needs_background": "light"
     },
     "output_type": "display_data"
    }
   ],
   "source": [
    "plt.scatter(y_test,y_predicted)\n",
    "plt.title(\"own implementation scatter\")\n",
    "plt.xlabel(\"y_test\")\n",
    "plt.ylabel(\"y_predicted\")\n",
    "plt.legend([\"Own Implementation\"])\n",
    "plt.show()"
   ]
  },
  {
   "cell_type": "code",
   "execution_count": 365,
   "metadata": {},
   "outputs": [
    {
     "data": {
      "image/png": "[encoded data removed]",
      "text/plain": [
       "<Figure size 432x288 with 1 Axes>"
      ]
     },
     "metadata": {
      "needs_background": "light"
     },
     "output_type": "display_data"
    }
   ],
   "source": [
    "plt.scatter(y_test,y_predicted1)\n",
    "plt.title(\"Library implementation scatter\")\n",
    "plt.xlabel(\"y_test\")\n",
    "plt.ylabel(\"y_predicted\")\n",
    "plt.legend([\"Library Implementation\"])\n",
    "plt.show()"
   ]
  },
  {
   "cell_type": "code",
   "execution_count": 367,
   "metadata": {},
   "outputs": [
    {
     "data": {
      "image/png": "[encoded data removed]",
      "text/plain": [
       "<Figure size 432x288 with 1 Axes>"
      ]
     },
     "metadata": {
      "needs_background": "light"
     },
     "output_type": "display_data"
    }
   ],
   "source": [
    "plt.scatter(y_predicted1,y_predicted)\n",
    "plt.title(\"own implementation vs library implementation scatter plot\")\n",
    "plt.xlabel(\" y_hat_sklearns_sgd\")\n",
    "plt.ylabel(\" y_hat_own_sgd\")\n",
    "plt.show()"
   ]
  },
  {
   "cell_type": "code",
   "execution_count": 419,
   "metadata": {},
   "outputs": [],
   "source": [
    "sk_coef = []\n",
    "for v in clf.coef_:\n",
    "    sk_coef.append(round(v,2))\n",
    "own_coef = []\n",
    "for v in w1 :\n",
    "    own_coef.append(round(v,2))"
   ]
  },
  {
   "cell_type": "code",
   "execution_count": 420,
   "metadata": {},
   "outputs": [
    {
     "name": "stdout",
     "output_type": "stream",
     "text": [
      "+----------------+--------------------+-------------------+\n",
      "| Implementation |        MSE         |        RMSE       |\n",
      "+----------------+--------------------+-------------------+\n",
      "|      Own       | 23.938608733739656 | 4.892709753678391 |\n",
      "|    Sklearn     | 24.32439290494464  | 4.931976571816278 |\n",
      "+----------------+--------------------+-------------------+\n",
      "+----------------+---------------------------------------------------------------------------------------------+\n",
      "| Implementation |                                           Weights                                           |\n",
      "+----------------+---------------------------------------------------------------------------------------------+\n",
      "|      Own       | [22.48, -0.65, 2.63, 0.41, 0.38, -3.17, 0.37, 0.99, -3.44, 3.37, -2.3, -2.55, -0.18, -4.66] |\n",
      "|    Sklearn     |    [-0.96, 0.68, 0.25, 0.72, -1.96, 3.12, -0.17, -3.02, 2.21, -1.71, -1.97, 1.12, -3.62]    |\n",
      "+----------------+---------------------------------------------------------------------------------------------+\n"
     ]
    }
   ],
   "source": [
    "# Please compare all your models using Prettytable library\n",
    "from prettytable import PrettyTable\n",
    "x = PrettyTable()\n",
    "x.field_names = ([\"Implementation\", \"MSE\",\"RMSE\"])\n",
    "x.add_row([\"Own\", 23.938608733739656, 4.892709753678391])\n",
    "x.add_row([\"Sklearn\",24.32439290494464, 4.931976571816278])\n",
    "print(x)\n",
    "x = PrettyTable()\n",
    "x.field_names = ([\"Implementation\",\"Weights\"])\n",
    "x.add_row([\"Own\", own_coef])\n",
    "x.add_row([\"Sklearn\",sk_coef])\n",
    "print(x)\n"
   ]
  },
  {
   "cell_type": "markdown",
   "metadata": {},
   "source": [
    "## Conclusion :\n",
    "1. As the number of epochs are increasing our error for both train and test is increasing at same rate so we can say that model is not overfitting.\n",
    "2. y_hat_own and y_test_sklearn are having almost linear relationship when ploting scatter plot, so we can say that the predicted values by own implementation and sklearn implementation are almost equal.\n",
    "3. We are getting 23.93 mean squared error.\n",
    "4. As the scatter plot for y_hat and y_test is having partial linear relationship so we are unable to predict accurate result. There is some error.\n",
    "5. Although the errors are almost same for both own implementation and sklearn implementation but there is a significance difference in coefficients. "
   ]
  }
 ],
 "metadata": {
  "colab": {
   "name": "Untitled3.ipynb",
   "provenance": [],
   "version": "0.3.2"
  },
  "kernelspec": {
   "display_name": "Python 3",
   "language": "python",
   "name": "python3"
  },
  "language_info": {
   "codemirror_mode": {
    "name": "ipython",
    "version": 3
   },
   "file_extension": ".py",
   "mimetype": "text/x-python",
   "name": "python",
   "nbconvert_exporter": "python",
   "pygments_lexer": "ipython3",
   "version": "3.7.3"
  }
 },
 "nbformat": 4,
 "nbformat_minor": 1
}
